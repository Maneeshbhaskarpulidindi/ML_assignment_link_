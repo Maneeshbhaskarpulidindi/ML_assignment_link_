{
  "nbformat": 4,
  "nbformat_minor": 0,
  "metadata": {
    "colab": {
      "provenance": []
    },
    "kernelspec": {
      "name": "python3",
      "display_name": "Python 3"
    },
    "language_info": {
      "name": "python"
    }
  },
  "cells": [
    {
      "cell_type": "code",
      "execution_count": 2,
      "metadata": {
        "id": "m4xjC-kc82HV"
      },
      "outputs": [],
      "source": [
        "import pandas as pd\n",
        "\n",
        "# Load the dataset\n",
        "df = pd.read_csv('WineQT.csv')\n"
      ]
    },
    {
      "cell_type": "code",
      "source": [
        "df['quality'].unique()"
      ],
      "metadata": {
        "colab": {
          "base_uri": "https://localhost:8080/"
        },
        "id": "s83Wvzat84wL",
        "outputId": "73607a29-24e8-4681-93d6-2ea68e127b51"
      },
      "execution_count": 3,
      "outputs": [
        {
          "output_type": "execute_result",
          "data": {
            "text/plain": [
              "array([5, 6, 7, 4, 8, 3])"
            ]
          },
          "metadata": {},
          "execution_count": 3
        }
      ]
    },
    {
      "cell_type": "code",
      "source": [
        "df['quality'] = df['quality'].apply(lambda x: 0 if x <= 6 else 1)\n"
      ],
      "metadata": {
        "id": "OJYMdHg-9fWe"
      },
      "execution_count": 4,
      "outputs": []
    },
    {
      "cell_type": "code",
      "source": [
        "df['quality'].unique()"
      ],
      "metadata": {
        "colab": {
          "base_uri": "https://localhost:8080/"
        },
        "id": "LfdCwjaZ9nXc",
        "outputId": "5d9214e4-4da9-4f89-ff3f-6d7b9c1fd543"
      },
      "execution_count": 5,
      "outputs": [
        {
          "output_type": "execute_result",
          "data": {
            "text/plain": [
              "array([0, 1])"
            ]
          },
          "metadata": {},
          "execution_count": 5
        }
      ]
    },
    {
      "cell_type": "code",
      "source": [
        "features = df.drop('quality', axis=1)\n"
      ],
      "metadata": {
        "id": "kVWPJweo9psm"
      },
      "execution_count": 6,
      "outputs": []
    },
    {
      "cell_type": "code",
      "source": [
        "from sklearn.preprocessing import MinMaxScaler\n",
        "\n",
        "scaler = MinMaxScaler()\n",
        "scaled_features = scaler.fit_transform(features)\n",
        "\n",
        "# Create a DataFrame from the scaled features\n",
        "scaled_df = pd.DataFrame(scaled_features, columns=features.columns)\n"
      ],
      "metadata": {
        "id": "qe13x9zZ-U5M"
      },
      "execution_count": 7,
      "outputs": []
    },
    {
      "cell_type": "code",
      "source": [
        "final_df = pd.concat([scaled_df, df['quality']], axis=1)\n"
      ],
      "metadata": {
        "id": "tTEIHbd1-Zov"
      },
      "execution_count": 8,
      "outputs": []
    },
    {
      "cell_type": "code",
      "source": [
        "final_df.to_csv('processed_wine_quality.csv', index=False)\n"
      ],
      "metadata": {
        "id": "qziw3MqO-bag"
      },
      "execution_count": 9,
      "outputs": []
    }
  ]
}